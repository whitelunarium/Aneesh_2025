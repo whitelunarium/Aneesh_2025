{
 "cells": [
  {
   "cell_type": "markdown",
   "metadata": {},
   "source": [
    "### Homework: Introduction to Mathematical Expressions\n",
    "\n",
    "#### **Objective**:\n",
    "By the end of this exercise, you will:\n",
    "- Understand how to perform basic arithmetic operations in JavaScript.\n",
    "- Use JavaScript's `Math` object for basic calculations.\n",
    "- Create a basic function and learn how to use it to solve a simple problem.\n",
    "\n",
    "---\n",
    "\n",
    "### **Task: Build a Simple Interest Calculator**\n",
    "\n",
    "In this exercise, you will build a **Simple Interest Calculator**. Simple interest is the interest calculated on the principal (initial money) over time using the formula:\n",
    "\n",
    "Where:\n",
    "- `P` is the **principal amount** (the initial money invested or borrowed).\n",
    "- `R` is the **rate of interest** (how much interest is earned or paid per year, as a percentage).\n",
    "- `T` is the **time** (the number of years).\n",
    "\n",
    "---\n",
    "\n",
    "### **Steps**:\n",
    "\n",
    "#### **1. Define Variables**\n",
    "First, you need to create variables to store the values for the **principal**, **rate of interest**, and **time**.\n",
    "\n",
    "##### **Instructions**:\n",
    "- Create three variables: `P`, `R`, and `T`, and assign them values.\n",
    "  - `P`: Principal amount (for example, `1000`).\n",
    "  - `R`: Rate of interest (for example, `5`).\n",
    "  - `T`: Time in years (for example, `2`).\n",
    "\n",
    "```javascript\n",
    "```\n",
    "#### **2. Write a Function to Calculate Simple Interest**\n",
    "Now, write a simple function that takes `P`, `R`, and `T` as input and returns the **Simple Interest** using the formula:\n",
    "\n",
    "##### **Instructions**:\n",
    "- Define a function called `calculateSimpleInterest(P, R, T)`.\n",
    "- Inside the function, calculate the simple interest and return it.\n",
    "\n",
    "Hint: `(P * R * T) / 100`\n",
    "\n",
    "\n",
    "#### **3. Display the Result**\n",
    "Now that you’ve written the function, it’s time to use it! Call your function with the values you defined earlier (`P`, `R`, and `T`) and print the result.\n",
    "\n",
    "##### **Instructions**:\n",
    "- Call the function `calculateSimpleInterest(P, R, T)` and store the result in a variable.\n",
    "- Use `console.log()` to print the result to the console.\n",
    "\n",
    "\n",
    "---"
   ]
  }
 ],
 "metadata": {
  "kernelspec": {
   "display_name": "venv",
   "language": "python",
   "name": "python3"
  },
  "language_info": {
   "codemirror_mode": {
    "name": "ipython",
    "version": 3
   },
   "file_extension": ".py",
   "mimetype": "text/x-python",
   "name": "python",
   "nbconvert_exporter": "python",
   "pygments_lexer": "ipython3",
   "version": "3.12.3"
  }
 },
 "nbformat": 4,
 "nbformat_minor": 2
}
