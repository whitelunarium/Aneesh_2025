{
 "cells": [
  {
   "cell_type": "code",
   "execution_count": null,
   "metadata": {},
   "outputs": [],
   "source": [
    "---\n",
    "comments: True\n",
    "layout: post\n",
    "title: Iteration Homework\n",
    "description: An intro to data abstraction\n",
    "permalink: /csse/javascript/fundamentals/iteration/hw\n",
    "categories: [CSSE JavaScript Fundamentals]\n",
    "author: Kian Zhu, Michael Xu and Srinaga Pillutla\n",
    "---"
   ]
  },
  {
   "cell_type": "markdown",
   "metadata": {},
   "source": [
    "## Homework Assignment: for Loop Challenge\n",
    "Task: Create a program that does the following:\n",
    "\n",
    "Initialize an array with the names of five of your favorite movies.\n",
    "Use a for loop to iterate through the array and print each movie name to the console.\n",
    "After printing all movie names, print a message indicating how many movies you listed."
   ]
  },
  {
   "cell_type": "code",
   "execution_count": 1,
   "metadata": {
    "vscode": {
     "languageId": "javascript"
    }
   },
   "outputs": [
    {
     "data": {
      "application/javascript": "\nlet favoriteMovies = [\"Jurassic Park\", \"The Godfather\", \"Interstellar\", \"Transformers\", \"Ghostbusters\"];\n\nfor (let i = 0; i < favoriteMovies.length; i++) {\n    console.log(favoriteMovies[i]);\n}\n\nconsole.log(`You listed ${favoriteMovies.length} movies.`);\n",
      "text/plain": [
       "<IPython.core.display.Javascript object>"
      ]
     },
     "metadata": {},
     "output_type": "display_data"
    }
   ],
   "source": [
    "%%js\n",
    "\n",
    "let favoriteMovies = [\"Jurassic Park\", \"The Godfather\", \"Interstellar\", \"Transformers\", \"Ghostbusters\"];\n",
    "\n",
    "for (let i = 0; i < favoriteMovies.length; i++) {\n",
    "    console.log(favoriteMovies[i]);\n",
    "}\n",
    "\n",
    "console.log(`You listed ${favoriteMovies.length} movies.`);\n"
   ]
  },
  {
   "cell_type": "markdown",
   "metadata": {},
   "source": [
    "# **Homework**\n",
    "\n",
    "Create a **3 by 3, 2D list** that represents a **tictactoe board**.\n",
    "Use **\"X\"** for X, **\"O\"** for O, and **None** for empty tiles.\n",
    "\n",
    "Ex. board = [[\"X\",\"None\",\"O\"],  \n",
    "&emsp;&emsp;&emsp;&emsp;&emsp;&emsp;&ensp;[\"X\",\"O\",\"None\"],  \n",
    "&emsp;&emsp;&emsp;&emsp;&emsp;&emsp;&ensp;[\"O\",\"None\",\"X\"]]\n",
    "\n",
    "Iterate over the board and **identify whether it is player X's or player O's turn.**\n",
    "\n",
    "**Hint**: count the number of moves(non-None). (X goes first)\n",
    "\n",
    "**Optional**: use console.error() to report an error if the board is illegal (ex. 7 \"X\"s and 2 \"O\"s)"
   ]
  },
  {
   "cell_type": "code",
   "execution_count": null,
   "metadata": {
    "vscode": {
     "languageId": "javascript"
    }
   },
   "outputs": [
    {
     "data": {
      "application/javascript": "\nlet board = [\n  [\"X\", null, \"O\"],\n  [\"X\", \"O\", null],\n  [\"O\", null, \"X\"]\n];\n\n// Count the number of moves\nlet xCount = 0;\nlet oCount = 0;\n\nfor (let row of board) {\n  for (let cell of row) {\n    if (cell === \"X\") xCount++;\n    else if (cell === \"O\") oCount++;\n  }\n}\n\n// Determine if the board state is valid\nif (xCount !== oCount && xCount !== oCount + 1) {\n  console.error(\"Error: Invalid board state\");\n} else {\n  // Determine whose turn it is\n  let turn = xCount === oCount ? \"X\" : \"O\";\n  console.log(`It is player ${turn}'s turn.`);\n}\n",
      "text/plain": [
       "<IPython.core.display.Javascript object>"
      ]
     },
     "metadata": {},
     "output_type": "display_data"
    }
   ],
   "source": [
    "%%js \n",
    "\n",
    "let board = [\n",
    "  [\"X\", null, \"O\"],\n",
    "  [\"X\", \"O\", null],\n",
    "  [\"O\", null, \"X\"]\n",
    "];\n",
    "\n",
    "let xCount = 0;\n",
    "let oCount = 0;\n",
    "\n",
    "for (let row of board) {\n",
    "  for (let cell of row) {\n",
    "    if (cell === \"X\") xCount++;\n",
    "    else if (cell === \"O\") oCount++;\n",
    "  }\n",
    "}\n",
    "\n",
    "if (xCount !== oCount && xCount !== oCount + 1) {\n",
    "  console.error(\"Error: Invalid\");\n",
    "} else {\n",
    "    \n",
    "  let turn = xCount === oCount ? \"X\" : \"O\";\n",
    "  console.log(`It is player ${turn}'s turn.`);\n",
    "}\n"
   ]
  },
  {
   "cell_type": "markdown",
   "metadata": {},
   "source": [
    "## H.W application of While Loops. \n",
    "\n",
    "Create the Outer Loop:\n",
    "\n",
    "Use a while loop that runs while outerFactor is less than or equal to 10.\n",
    "Initialize the Inner Loop Variable:\n",
    "\n",
    "Inside the outer loop, create another variable called innerFactor and set it to 1.\n",
    "Create the Inner Loop:\n",
    "\n",
    "Inside the outer loop, use another while loop that runs while innerFactor is less than or equal to 10.\n",
    "Calculate the Product:\n",
    "\n",
    "Inside the inner loop, calculate the product of outerFactor and innerFactor.\n",
    "Print the Product:\n",
    "\n",
    "Print the product using console.log(), formatting the output neatly.\n",
    "Increment the Inner Loop Variable:\n",
    "\n",
    "After printing the product, increment innerFactor by 1.\n",
    "Move to the Next Line:\n",
    "\n",
    "After the inner loop finishes, print a new line to separate rows.\n",
    "Increment the Outer Loop Variable:\n",
    "\n",
    "Increment outerFactor by 1 to move to the next row in the table."
   ]
  },
  {
   "cell_type": "code",
   "execution_count": 14,
   "metadata": {
    "vscode": {
     "languageId": "javascript"
    }
   },
   "outputs": [
    {
     "data": {
      "application/javascript": "\n// Outer loop: Runs while outerFactor is less than or equal to 10\nlet outerFactor = 1;\n\nwhile (outerFactor <= 10) {\n    // Initialize the inner loop variable\n    let innerFactor = 1;\n    \n    // Inner loop: Runs while innerFactor is less than or equal to 10\n    while (innerFactor <= 10) {\n        // Calculate the product of outerFactor and innerFactor\n        let product = outerFactor * innerFactor;\n        \n        // Print the product, formatted neatly\n        console.log(`${outerFactor} * ${innerFactor} = ${product}`);\n        \n        // Increment the inner loop variable\n        innerFactor++;\n    }\n    \n    // Move to the next line after the inner loop finishes\n    console.log(\"\"); // Newline after each row\n    \n    // Increment the outer loop variable\n    outerFactor++;\n}\n",
      "text/plain": [
       "<IPython.core.display.Javascript object>"
      ]
     },
     "metadata": {},
     "output_type": "display_data"
    }
   ],
   "source": [
    "%%js \n",
    "\n",
    "// Outer loop: Runs while outerFactor is less than or equal to 10\n",
    "let outerFactor = 1;\n",
    "\n",
    "while (outerFactor <= 10) {\n",
    "    // Initialize the inner loop variable\n",
    "    let innerFactor = 1;\n",
    "    \n",
    "    // Inner loop: Runs while innerFactor is less than or equal to 10\n",
    "    while (innerFactor <= 10) {\n",
    "        // Calculate the product of outerFactor and innerFactor\n",
    "        let product = outerFactor * innerFactor;\n",
    "        \n",
    "        // Print the product, formatted neatly\n",
    "        console.log(`${outerFactor} * ${innerFactor} = ${product}`);\n",
    "        \n",
    "        // Increment the inner loop variable\n",
    "        innerFactor++;\n",
    "    }\n",
    "    \n",
    "    // Move to the next line after the inner loop finishes\n",
    "    console.log(\"\"); // Newline after each row\n",
    "    \n",
    "    // Increment the outer loop variable\n",
    "    outerFactor++;\n",
    "}\n"
   ]
  }
 ],
 "metadata": {
  "kernelspec": {
   "display_name": "venv",
   "language": "python",
   "name": "python3"
  },
  "language_info": {
   "codemirror_mode": {
    "name": "ipython",
    "version": 3
   },
   "file_extension": ".py",
   "mimetype": "text/x-python",
   "name": "python",
   "nbconvert_exporter": "python",
   "pygments_lexer": "ipython3",
   "version": "3.12.3"
  }
 },
 "nbformat": 4,
 "nbformat_minor": 2
}
