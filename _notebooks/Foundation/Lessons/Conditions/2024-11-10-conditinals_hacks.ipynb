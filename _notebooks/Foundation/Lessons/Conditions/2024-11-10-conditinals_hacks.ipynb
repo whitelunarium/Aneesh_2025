{
 "cells": [
  {
   "cell_type": "raw",
   "metadata": {
    "vscode": {
     "languageId": "raw"
    }
   },
   "source": [
    "---\n",
    "comments: True\n",
    "layout: post\n",
    "title: conditionals lesson hacks\n",
    "description: conditionals hacks\n",
    "permalink: /csse/javascript/fundamentals/conditionals/hacks\n",
    "type: ccc\n",
    "---"
   ]
  },
  {
   "cell_type": "markdown",
   "metadata": {},
   "source": [
    "#### <span style=\"color: #ADD8E6; text-shadow: 3px 3px 8px #4682B4; font-weight: bold; font-size: 2em;\">Popcorn Hacks:</span>\n",
    "Develop a basic combat system that allows characters to engage in battles with enemies. This will help you practice using functions, conditionals, and basic game mechanics in JavaScript.\n",
    "\n",
    "---\n",
    "##### <span style=\"color: #FF6347; text-shadow: 2px 2px 6px #8B0000; font-weight: bold; font-size: 1.5em;\">Popcorn Hack Part 1 - 1: Using <code>initializeData</code> Function</span> \n",
    "\n",
    "1. Add `speed` to the <code>initializeData(data = null)</code> function and give it a default value.\n",
    "2. Add `seed` to the HTML output.\n",
    "3. Add `speed` to the JSON data.\n",
    "4. Test calling <code>initializeData</code> with no argument, and then using a `data` JSON object as an argument.\n",
    "\n",
    "##### <span style=\"color: #FF6347; text-shadow: 2px 2px 6px #8B0000; font-weight: bold; font-size: 1.5em;\">Popcorn Hack Part 1 - 2: Adding IJKL Key Conditions in <code>handleKeyDown</code></span> \n",
    "\n",
    "1. Add a `case` statement for each of the IJKL keys in the `handleKeyDown({ keyCode })` switch statement.\n",
    "2. Send the key code for each IJKL key to the <code>gameObject.handleKeyDown</code> method.\n",
    "3. Use <code>console.log()</code> to output `gameObject`.\n",
    "\n",
    "---\n",
    "\n",
    "##### <span style=\"color: #FF6347; text-shadow: 2px 2px 6px #8B0000; font-weight: bold; font-size: 1.5em;\">Popcorn Hack 2: Creating a Simple Attack System</span>\n",
    "1. Add a <code>boolean</code> variable named <code>canAttack</code>, and set it to <code>false</code>.\n",
    "2. Use an <code>if</code> statement to check if the player can attack.\n",
    "3. If <code>canAttack</code> is <code>false</code>, output \"Can't attack.\"\n",
    "4. Use <code>Math.random()</code> to determine if the player is allowed to attack. (Tip: Use ChatGPT for help with <code>Math.random()</code> if needed!)\n",
    "5. This will pick a random number to decide if the attack can happen.\n",
    "6. Use <code>console.log()</code> for all outputs.\n",
    "\n",
    "---\n",
    "\n",
    "##### <span style=\"color: #FF6347; text-shadow: 2px 2px 6px #8B0000; font-weight: bold; font-size: 1.5em;\">Popcorn Hack 3: Level Requirement Check</span>\n",
    "1. Use the <code>ternary operator</code> to create an output if the player meets the level requirements.\n",
    "2. If not, output a message telling the player they are under-leveled.\n",
    "3. Use <code>console.log()</code> to print your output."
   ]
  },
  {
   "cell_type": "code",
   "execution_count": null,
   "metadata": {
    "vscode": {
     "languageId": "javascript"
    }
   },
   "outputs": [],
   "source": [
    "%%js\n",
    "\n",
    "// Pop corn Hack 1-2\n",
    "\n",
    "const gameObject = {\n",
    "    handleKeyDown: function (keyCode) {\n",
    "        console.log(`Key pressed with keyCode: ${keyCode}`);\n",
    "        console.log(\"gameObject:\", this);\n",
    "    }\n",
    "};\n",
    "\n",
    "function handleKeyDown(event) {\n",
    "    const { keyCode } = event;\n",
    "\n",
    "    switch (keyCode) {\n",
    "        case 87: // 'W' key\n",
    "            console.log(\"W key pressed\");\n",
    "            gameObject.handleKeyDown(keyCode);\n",
    "            break;\n",
    "        case 65: // 'A' key\n",
    "            console.log(\"A key pressed\");\n",
    "            gameObject.handleKeyDown(keyCode);\n",
    "            break;\n",
    "        case 83: // 'S' key\n",
    "            console.log(\"S key pressed\");\n",
    "            gameObject.handleKeyDown(keyCode);\n",
    "            break;\n",
    "        case 68: // 'D' key\n",
    "            console.log(\"D key pressed\");\n",
    "            gameObject.handleKeyDown(keyCode);\n",
    "            break;\n",
    "        default:\n",
    "            break;\n",
    "    }\n",
    "}\n",
    "\n",
    "document.addEventListener(\"keydown\", handleKeyDown);\n",
    "\n",
    "function initializeData(data = null) {\n",
    "    const defaultData = {\n",
    "        name: \"Aneesh\",\n",
    "        health: 100,\n",
    "        attack: 2,\n",
    "        defense: 1,\n",
    "        speed: 2\n",
    "    };\n",
    "    \n",
    "    const characterData = { ...defaultData, ...data };\n",
    "    console.log(\"Initialized Data:\", characterData);\n",
    "    document.body.innerHTML += `<p>${characterData.name}: Health = ${characterData.health}, Attack = ${characterData.attack}, Defense = ${characterData.defense}, Speed = ${characterData.speed}</p>`;\n",
    "    return characterData;\n",
    "}\n",
    "\n",
    "function attack(attacker, defender) {\n",
    "    const damage = Math.max(attacker.attack - defender.defense, 0);\n",
    "    defender.health -= damage;\n",
    "    console.log(`${attacker.name} attacks ${defender.name} for ${damage} damage! ${defender.name} now has ${defender.health} health.`);\n",
    "}\n",
    "\n",
    "function startBattle(player, enemy) {\n",
    "    console.log(\"Battle Start!\");\n",
    "    while (player.health > 0 && enemy.health > 0) {\n",
    "        if (player.speed >= enemy.speed) {\n",
    "            attack(player, enemy);\n",
    "            if (enemy.health <= 0) break;\n",
    "            attack(enemy, player);\n",
    "        } else {\n",
    "            attack(enemy, player);\n",
    "            if (player.health <= 0) break;\n",
    "            attack(player, enemy);\n",
    "        }\n",
    "    }\n",
    "    console.log(player.health > 0 ? `${player.name} wins!` : `${enemy.name} wins!`);\n",
    "}\n",
    "\n",
    "const player = initializeData();\n",
    "const enemy = initializeData({ name: \"Enemy\", health: 80, attack: 2, defense: 1, speed: 2 });\n",
    "\n",
    "startBattle(player, enemy);\n"
   ]
  },
  {
   "cell_type": "code",
   "execution_count": null,
   "metadata": {
    "vscode": {
     "languageId": "javascript"
    }
   },
   "outputs": [],
   "source": [
    "// Popcorn Hack 3 \n",
    "\n",
    "const playerLevel = 10;\n",
    "const requiredLevel = 30;\n",
    "\n",
    "const levelCheckMessage = (playerLevel >= requiredLevel) \n",
    "    ? \"Player meets the level requirements. Ready for battle!\" \n",
    "    : \"Player is under-leveled. Level up to meet the requirement.\";\n",
    "\n",
    "console.log(levelCheckMessage);\n"
   ]
  },
  {
   "cell_type": "code",
   "execution_count": null,
   "metadata": {
    "vscode": {
     "languageId": "javascript"
    }
   },
   "outputs": [],
   "source": [
    "%%js\n",
    "\n",
    "// Popcorn Hack 2\n",
    "\n",
    "let canAttack = false;\n",
    "\n",
    "function attemptAttack() {\n",
    "    if (!canAttack) {\n",
    "        console.log(\"Can't attack.\");\n",
    "        canAttack = Math.random() > 0.5; \n",
    "    }\n",
    "\n",
    "    if (canAttack) {\n",
    "        console.log(\"Attack successful!\");\n",
    "        canAttack = false;\n",
    "    } else {\n",
    "        console.log(\"Attack failed. Try again.\");\n",
    "    }\n",
    "}\n",
    "\n",
    "for (let i = 0; i < 5; i++) {\n",
    "    console.log(`Attempt ${i + 1}:`);\n",
    "    attemptAttack();\n",
    "}\n"
   ]
  },
  {
   "cell_type": "markdown",
   "metadata": {},
   "source": [
    "<!-- Homework Section with Enhanced Glowing Title -->\n",
    "\n",
    "### <span style=\"color: #78C0E0; text-shadow: 0 0 10px #1E3D59, 0 0 20px #1E3D59; font-weight: bold; font-size: 2em;\">Homework:</span>\n",
    "\n",
    "#### <span style=\"color: #FFA07A; text-shadow: 0 0 8px #3C3C3C, 0 0 15px #3C3C3C; font-weight: bold; font-size: 1.5em;\">Objectives</span>\n",
    "\n",
    "<span style=\"font-size: 1.2em; color: #E5E5E5; line-height: 1.8;\">\n",
    "  <br><strong style=\"color: #FFD700;\">Option 1:</strong> <span style=\"color: #C0C0C0;\">Create a simple combat system.</span>\n",
    "  <ul style=\"color: #D3D3D3; margin-left: 20px; list-style-type: circle;\">\n",
    "    <li>Allow characters to fight enemies.</li>\n",
    "    <li>Use basic functions and conditionals in JavaScript.</li>\n",
    "    <li>Focus on making it easy to understand how battles work.</li>\n",
    "  </ul>\n",
    "\n",
    "  <br>\n",
    "  <strong style=\"color: #FFD700;\">Option 2:</strong> <span style=\"color: #C0C0C0;\">Make a dialogue system for your NPC (Non-Player Character).</span>\n",
    "  <ul style=\"color: #D3D3D3; margin-left: 20px; list-style-type: circle;\">\n",
    "    <li>Use the <code style=\"color: #7FFFD4;\">prompt()</code> function to ask the player for a response (choose a number from 1 to 4).</li>\n",
    "    <li>This dialogue should appear when the player gets close to the NPC and presses a button.</li>\n",
    "  </ul>\n",
    "</span>\n",
    "\n",
    "### <span style=\"color: #FFA07A; text-shadow: 1px 1px 6px #3C3C3C; font-weight: bold;\">Additional Tips:</span>\n",
    "- <span style=\"color: #FFD700;\">**For Option 1:**</span>\n",
    "  <ul style=\"color: #D3D3D3; margin-left: 20px; list-style-type: square;\">\n",
    "    <li>Start by writing down what the characters and enemies will be. Create simple names and attributes (like health).</li>\n",
    "    <li>Use <code style=\"color: #7FFFD4;\">console.log()</code> to print out what's happening at each step. This will help you understand the flow of your code.</li>\n",
    "    <li>Look for example code online to see how others have created combat systems. Don't be afraid to borrow ideas!</li>\n",
    "  </ul>\n",
    "\n",
    "- <span style=\"color: #FFD700;\">**For Option 2:**</span>\n",
    "  <ul style=\"color: #D3D3D3; margin-left: 20px; list-style-type: square;\">\n",
    "    <li>Plan out the dialogue options before you start coding. Write them down in a list.</li>\n",
    "    <li>Use comments in your code to remind yourself what each part does. For example, <code style=\"color: #7FFFD4;\">// Ask the player for a response</code>.</li>\n",
    "    <li>Test your code frequently. After writing a few lines, run it to see if it works before adding more.</li>\n",
    "  </ul>"
   ]
  },
  {
   "cell_type": "code",
   "execution_count": 5,
   "metadata": {
    "vscode": {
     "languageId": "javascript"
    }
   },
   "outputs": [
    {
     "data": {
      "application/javascript": "\n// Homework Option 2\n\nconst npcDialogueOptions = [\n    \"Hi!\",\n    \"Why?\",\n    \"Bye!\",\n    \"Die.\"\n];\n\nfunction startDialogue() {\n    const choice = parseInt(prompt(\"Choose a response (1 to 4):\"));\n    \n    if (choice >= 1 && choice <= 4) {\n        console.log(`NPC says: \"${npcDialogueOptions[choice - 1]}\"`);\n    } else {\n        console.log(\"Invalid choice. Please enter a number between 1 and 4.\");\n    }\n}\n\nconsole.log(\"You approach the NPC...\");\nstartDialogue();\n",
      "text/plain": [
       "<IPython.core.display.Javascript object>"
      ]
     },
     "metadata": {},
     "output_type": "display_data"
    }
   ],
   "source": [
    "%%js\n",
    "\n",
    "// Homework Option 2\n",
    "\n",
    "const npcDialogueOptions = [\n",
    "    \"Hi!\",\n",
    "    \"Why?\",\n",
    "    \"Bye!\",\n",
    "    \"Die.\"\n",
    "];\n",
    "\n",
    "function startDialogue() {\n",
    "    const choice = parseInt(prompt(\"Choose a response (1 to 4):\"));\n",
    "    \n",
    "    if (choice >= 1 && choice <= 4) {\n",
    "        console.log(`NPC says: \"${npcDialogueOptions[choice - 1]}\"`);\n",
    "    } else {\n",
    "        console.log(\"Invalid choice. Please enter a number between 1 and 4.\");\n",
    "    }\n",
    "}\n",
    "\n",
    "console.log(\"You approach the NPC...\");\n",
    "startDialogue();\n"
   ]
  }
 ],
 "metadata": {
  "kernelspec": {
   "display_name": "venv",
   "language": "python",
   "name": "python3"
  },
  "language_info": {
   "codemirror_mode": {
    "name": "ipython",
    "version": 3
   },
   "file_extension": ".py",
   "mimetype": "text/x-python",
   "name": "python",
   "nbconvert_exporter": "python",
   "pygments_lexer": "ipython3",
   "version": "3.12.3"
  }
 },
 "nbformat": 4,
 "nbformat_minor": 2
}
