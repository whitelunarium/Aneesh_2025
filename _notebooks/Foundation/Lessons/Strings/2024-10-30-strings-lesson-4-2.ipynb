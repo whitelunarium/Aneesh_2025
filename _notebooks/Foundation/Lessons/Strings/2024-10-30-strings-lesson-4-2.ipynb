{
 "cells": [
  {
   "cell_type": "markdown",
   "metadata": {},
   "source": [
    "# Lesson 4.2: Strings and Functions\n",
    "\n",
    "### Categories: Collaboration\n",
    "\n",
    "In this lesson, we'll explore string functions in Python and how to manipulate text effectively."
   ]
  },
  {
   "cell_type": "markdown",
   "metadata": {},
   "source": [
    "## Understanding String Functions\n",
    "Python provides a variety of built-in functions for string manipulation. Let's dive into some useful ones!"
   ]
  },
  {
   "cell_type": "code",
   "execution_count": 1,
   "metadata": {},
   "outputs": [
    {
     "name": "stdout",
     "output_type": "stream",
     "text": [
      "the stripes on a tiger are unique, similar to the human fingerprint\n",
      "THE STRIPES ON A TIGER ARE UNIQUE, SIMILAR TO THE HUMAN FINGERPRINT\n"
     ]
    }
   ],
   "source": [
    "# Example string\n",
    "tiger_fact = \"the stripes on a Tiger are unique, similar to the human fingerprint\"\n",
    "\n",
    "# Convert to lowercase and uppercase\n",
    "print(tiger_fact.lower())  # Lowercase\n",
    "print(tiger_fact.upper())  # Uppercase"
   ]
  },
  {
   "cell_type": "markdown",
   "metadata": {},
   "source": [
    "### Counting Occurrences\n",
    "You can count how many times a substring appears in a string using the `count()` method."
   ]
  },
  {
   "cell_type": "code",
   "execution_count": 2,
   "metadata": {},
   "outputs": [
    {
     "name": "stdout",
     "output_type": "stream",
     "text": [
      "2\n"
     ]
    }
   ],
   "source": [
    "# Count occurrences of the word 'the'\n",
    "print(tiger_fact.count(\"the\"))"
   ]
  },
  {
   "cell_type": "markdown",
   "metadata": {},
   "source": [
    "### Finding Indexes\n",
    "You can find the index of a specific substring using the `find()` method."
   ]
  },
  {
   "cell_type": "code",
   "execution_count": 3,
   "metadata": {},
   "outputs": [
    {
     "name": "stdout",
     "output_type": "stream",
     "text": [
      "27\n"
     ]
    }
   ],
   "source": [
    "# Find the index of the word 'unique'\n",
    "print(tiger_fact.find(\"unique\"))"
   ]
  },
  {
   "cell_type": "markdown",
   "metadata": {},
   "source": [
    "### Replacing Substrings\n",
    "You can replace parts of a string with the `replace()` method. Remember, this method returns a new string!"
   ]
  },
  {
   "cell_type": "code",
   "execution_count": 4,
   "metadata": {},
   "outputs": [
    {
     "name": "stdout",
     "output_type": "stream",
     "text": [
      "the stripes on a zebra are unique, similar to the human fingerprint\n",
      "the stripes on a zebra are unique, similar to the human fingerprint\n"
     ]
    }
   ],
   "source": [
    "# Replace 'Tiger' with 'zebra'\n",
    "new_tiger_fact = tiger_fact.replace('Tiger', 'zebra')\n",
    "print(new_tiger_fact)\n",
    "# Or replace it directly\n",
    "tiger_fact = tiger_fact.replace('Tiger', 'zebra')\n",
    "print(tiger_fact)"
   ]
  },
  {
   "cell_type": "markdown",
   "metadata": {},
   "source": [
    "### Concatenation\n",
    "You can concatenate strings using the `+` operator. However, it can get messy with many variables!"
   ]
  },
  {
   "cell_type": "code",
   "execution_count": 5,
   "metadata": {},
   "outputs": [
    {
     "name": "stdout",
     "output_type": "stream",
     "text": [
      "angelfishcatfishpufferfish\n",
      "angelfish, catfish, pufferfish\n"
     ]
    }
   ],
   "source": [
    "# Concatenate fish names\n",
    "fish = \"fish\"\n",
    "fish1 = \"angel\"\n",
    "fish2 = \"cat\"\n",
    "fish3 = \"puffer\"\n",
    "\n",
    "# Bad format\n",
    "bad_format_species = fish1 + fish + fish2 + fish + fish3 + fish\n",
    "print(bad_format_species)\n",
    "\n",
    "# Good format with commas\n",
    "good_format_species = fish1 + fish + ', ' + fish2 + fish + ', ' + fish3 + fish\n",
    "print(good_format_species)"
   ]
  },
  {
   "cell_type": "markdown",
   "metadata": {},
   "source": [
    "### Formatted Strings\n",
    "Using formatted strings makes it easier to include variables without cluttering the code."
   ]
  },
  {
   "cell_type": "code",
   "execution_count": 6,
   "metadata": {},
   "outputs": [
    {
     "name": "stdout",
     "output_type": "stream",
     "text": [
      "angelfish, catfish, and pufferfish are my favorite fish!\n"
     ]
    }
   ],
   "source": [
    "# Using formatted strings\n",
    "better_format_species = '{}{}, {}{}, and {}{} are my favorite fish!' .format(fish1,fish,fish2,fish,fish3,fish)\n",
    "print(better_format_species)"
   ]
  },
  {
   "cell_type": "markdown",
   "metadata": {},
   "source": [
    "## Hack: Make a Fun Sentence!\n",
    "Now, let's combine everything we've learned to create a fun sentence about animals using a random choice!\n",
    "\n",
    "We will use the `random` library to pick a random animal from a list and include it in a sentence."
   ]
  },
  {
   "cell_type": "code",
   "execution_count": 7,
   "metadata": {},
   "outputs": [
    {
     "name": "stdout",
     "output_type": "stream",
     "text": [
      "Did you know that a dolphin is also known as a 'smiling' animal?\n"
     ]
    }
   ],
   "source": [
    "import random\n",
    "\n",
    "# List of animals\n",
    "animals = ['dolphin', 'elephant', 'giraffe', 'panda']\n",
    "\n",
    "# Randomly choose an animal\n",
    "chosen_animal = random.choice(animals)\n",
    "\n",
    "# Create a fun fact\n",
    "fun_fact = 'Did you know that a {} is also known as a \"smiling\" animal?'.format(chosen_animal)\n",
    "print(fun_fact)"
   ]
  },
  {
   "cell_type": "markdown",
   "metadata": {},
   "source": [
    "### Conclusion\n",
    "In this lesson, you learned about various string functions in Python. These functions can help you manipulate and format text effectively, making your code cleaner and more efficient. Keep practicing and have fun with strings!"
   ]
  }
 ],
 "metadata": {
  "kernelspec": {
   "display_name": "Python 3",
   "language": "python",
   "name": "python3"
  },
  "language_info": {
   "codemirror_mode": {
    "name": "ipython",
    "version": 3
   },
   "file_extension": ".py",
   "mimetype": "text/x-python",
   "name": "python",
   "nbconvert_exporter": "python",
   "pygments_lexer": "ipython3",
   "version": "3.10.12"
  }
 },
 "nbformat": 4,
 "nbformat_minor": 2
}
