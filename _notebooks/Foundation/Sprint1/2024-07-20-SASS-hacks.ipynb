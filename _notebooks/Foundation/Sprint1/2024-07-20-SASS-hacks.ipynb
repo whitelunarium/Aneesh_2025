{
 "cells": [
  {
   "cell_type": "raw",
   "metadata": {
    "vscode": {
     "languageId": "raw"
    }
   },
   "source": [
    "---\n",
    "layout: post\n",
    "title: SASS Hacks\n",
    "description: Applying review to setting up a SASS project \n",
    "permalink: /sass_basics/hacks\n",
    "menu: nav/sass_basics.html\n",
    "toc: true\n",
    "comments: true\n",
    "---"
   ]
  },
  {
   "cell_type": "markdown",
   "metadata": {},
   "source": [
    "## SASS Hacks Overview\n",
    "The key objective of this Hack is to manage your own SASS effectively. By the end of this activity, you should be able to:\n",
    "1. **Organize Your SASS Files**: Create a structured folder that contains your SASS files.\n",
    "2. **Customize Styles**: Copy the provided SASS files into your own blog and make necessary changes to fit your design requirements.\n",
    "\n",
    "### Resources\n",
    "- **Reviewed Articles**: Refer to the articles we have reviewed for fundamental concepts and best practices in SASS.\n",
    "- **ChatGPT**: Use ChatGPT to get assistance with specific SASS features, troubleshooting, and code examples."
   ]
  },
  {
   "cell_type": "markdown",
   "metadata": {},
   "source": [
    "### Example Folder Structure\n",
    "Be sure to reference `portfolio_2025/_sass` and make adjustments to your needs.\n",
    "\n",
    "- Review the folder named `_sass` in your project directory.\n",
    "- Inside the `_sass` folder, create a `nighthawk` directory.\n",
    "- Observe the `portfolio_2025` folder and its files.\n",
    "\n",
    "  ```\n",
    "  _sass/nighthawk\n",
    "    |_ _main.scss\n",
    "    |_ _mixins.scss \n",
    "    |_ calculator-button.scss\n",
    "    |_ profile.scss\n",
    "    |_ dropdown-menu.scss\n",
    "    |_ platformer-game.scss\n",
    "    |_ chatbot.scss\n",
    "    |_ hacks.scss\n",
    "  ```\n",
    "\n",
    "\n",
    "#### Hack Requirements\n",
    "Describe are the required setup requirements to complete this hack.\n",
    "\n",
    "- In this hack you will need a nighthawk folder, but NOT all of the files.\n",
    "- Copy the _main.scss file and adjust the insides to just what is requested.\n",
    "  ```scss\n",
    "  // _main.scss\n",
    "\n",
    "  @import 'mixins';\n",
    "  @import 'calculator-button';\n",
    "  ```\n",
    "- Copy the `_mixins.scss` as this file will contain the \"button partial\" that is needed for our calculators.\n",
    "- Copy the `calculator-button.scss` as this file contains the \"button classes\" that will be used in the project.\n",
    "- Do not copy the remaining files, you will only need these styles if required in the future.\n",
    "- Future enhancements, to avoid conflicts, create your own folder structure and organizing your styles accordingly."
   ]
  },
  {
   "cell_type": "markdown",
   "metadata": {},
   "source": [
    "### Add Calculator files to Project\n",
    "Obtain code for [JS Calculator](https://nighthawkcoders.github.io/portfolio_2025/javascript/project/calculator) and [Binary Calculator](https://nighthawkcoders.github.io/portfolio_2025/javascript/project/binary-calculator)\n",
    "\n",
    "#### Javascript Calculator\n",
    "Observe the button classes.\n",
    "\n",
    "```html\n",
    "<div id=\"animation\">\n",
    "  <div class=\"calculator-container\">\n",
    "      <!--result-->\n",
    "      <div class=\"calculator-output\" id=\"output\">0</div>\n",
    "      <!--row 1-->\n",
    "      <div class=\"calculator-number\">1</div>\n",
    "      <div class=\"calculator-number\">2</div>\n",
    "      <div class=\"calculator-number\">3</div>\n",
    "      <div class=\"calculator-operation\">+</div>\n",
    "      <!--row 2-->\n",
    "      <div class=\"calculator-number\">4</div>\n",
    "      <div class=\"calculator-number\">5</div>\n",
    "      <div class=\"calculator-number\">6</div>\n",
    "      <div class=\"calculator-operation\">-</div>\n",
    "      <!--row 3-->\n",
    "      <div class=\"calculator-number\">7</div>\n",
    "      <div class=\"calculator-number\">8</div>\n",
    "      <div class=\"calculator-number\">9</div>\n",
    "      <div class=\"calculator-operation\">*</div>\n",
    "      <!--row 4-->\n",
    "      <div class=\"calculator-clear\">A/C</div>\n",
    "      <div class=\"calculator-number\">0</div>\n",
    "      <div class=\"calculator-number\">.</div>\n",
    "      <div class=\"calculator-equals\">=</div>\n",
    "  </div>\n",
    "</div>\n",
    "```\n",
    "\n",
    "#### Binary Calculator\n",
    "Observe the `class=\"calc-button\"`\n",
    "\n",
    "```html\n",
    "<td><div class=\"calc-button\" id=\"add1\" onclick=\"add(1)\">+1</div></td>\n",
    "<td id=\"binary\">00000000</td>\n",
    "<td id=\"octal\">0</td>\n",
    "<td id=\"hexadecimal\">0</td>\n",
    "<td id=\"decimal\">0</td>\n",
    "<td><div class=\"calc-button\" id=\"sub1\" onclick=\"add(-1)\">-1</div></td>\n",
    "```"
   ]
  },
  {
   "cell_type": "markdown",
   "metadata": {},
   "source": [
    "#### Modify Styles\n",
    "Moify the SASS files (e.g., `_mixins.scss`, `calculator-button.scss`) into your `sass` folder.\n",
    " \n",
    "It is important to review the style files and see if you can make the best style ever :)  This is focussed on buttons. In a large website, you would want to establish a convention for something like buttons and make sure they are consistent across pages in project.\n",
    "\n",
    "- Make changes to style and capture in your project. \n",
    "- Document some of the following in an Issue and discuss how they were accomplished\n",
    "  - What is _mixins.scss file?  Where is it used?\n",
    "  - Explain this code.  What does it define?  How is it referenced in HTML?\n",
    "    ```\n",
    "    .calc-button {\n",
    "        @include button();\n",
    "    }\n",
    "    ```\n",
    "  - Where is button reused?  In SASS?  In HTML?"
   ]
  },
  {
   "cell_type": "markdown",
   "metadata": {},
   "source": [
    "### Rainbow\n",
    "Optional fun stuff with rainbow.  Suggested by Finn, ask him for help.\n",
    "\n",
    "- Setup files and personal SASS in correct places.\n",
    "- Make the animation work in an infinite loop\n",
    "- Make the colors match the rainbow\n",
    "- Fix the keyframes"
   ]
  },
  {
   "cell_type": "markdown",
   "metadata": {},
   "source": [
    "```scss\n",
    "@keyframes rainbow {\n",
    "  // 0% { color: red; }\n",
    "  14% { color: orange; }\n",
    "  28% { background-color: yellow; }\n",
    "  42% { border-color: red; }\n",
    "  // 57% { background-color: red; }\n",
    "  71% { background-color: red; }\n",
    "  85% { background-color: violet; }\n",
    "  100% { background-color: yellow; }\n",
    "}\n",
    "\n",
    ".rainbow {\n",
    "  width: 100px;\n",
    "  height: 100px;\n",
    "  animation: rainbow 1s linear;\n",
    "}\n",
    "```\n"
   ]
  },
  {
   "cell_type": "code",
   "execution_count": null,
   "metadata": {
    "vscode": {
     "languageId": "html"
    }
   },
   "outputs": [],
   "source": [
    "<!-- HTML CODE NEEDED-->\n",
    "<div class=\"rainbow\"></div>"
   ]
  },
  {
   "cell_type": "markdown",
   "metadata": {},
   "source": [
    "<div class=\"rainbow\"> ;) </div>\n",
    "\n"
   ]
  },
  {
   "cell_type": "markdown",
   "metadata": {},
   "source": [
    "### Spin\n",
    "Optional fun stuff with spin, ask Finn for help.\n",
    "\n",
    "- Setup files and personal SASS in correct places.\n",
    "- Make the entire sping animation"
   ]
  },
  {
   "cell_type": "markdown",
   "metadata": {},
   "source": [
    "```scss\n",
    "@keyframes spin {\n",
    "\n",
    "}\n",
    "\n",
    "@keyframes move {\n",
    "\n",
    "}\n",
    "```"
   ]
  },
  {
   "cell_type": "code",
   "execution_count": null,
   "metadata": {
    "vscode": {
     "languageId": "html"
    }
   },
   "outputs": [],
   "source": [
    "<!-- HTML CODE NEEDED-->    \n",
    "<div class=\"spinMove\"></div>"
   ]
  }
 ],
 "metadata": {
  "kernelspec": {
   "display_name": "Python 3",
   "language": "python",
   "name": "python3"
  },
  "language_info": {
   "codemirror_mode": {
    "name": "ipython",
    "version": 3
   },
   "file_extension": ".py",
   "mimetype": "text/x-python",
   "name": "python",
   "nbconvert_exporter": "python",
   "pygments_lexer": "ipython3",
   "version": "3.11.9"
  }
 },
 "nbformat": 4,
 "nbformat_minor": 2
}
