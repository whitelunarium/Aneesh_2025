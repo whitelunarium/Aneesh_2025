{
 "cells": [
  {
   "cell_type": "code",
   "execution_count": null,
   "metadata": {
    "vscode": {
     "languageId": "plaintext"
    }
   },
   "outputs": [],
   "source": [
    "---\n",
    "comments: true\n",
    "layout: post\n",
    "title: Software Development Lifecycle\n",
    "author: Aneesh Deevi\n",
    "permalink: /software-development-lifecycle/\n",
    "category: [ PBL ]\n",
    "type: ccc\n",
    "---"
   ]
  },
  {
   "cell_type": "markdown",
   "metadata": {},
   "source": [
    "# Software Development Lifecycle (SDLC) in Project-Based Learning\n",
    "\n",
    "## Understanding the Software Development Lifecycle (SDLC)\n",
    "\n",
    "The **Software Development Lifecycle (SDLC)** is a structured approach to software development that ensures efficiency, quality, and maintainability. In the context of Project-Based Learning (PBL), understanding SDLC helps teams collaborate effectively and manage the software development process smoothly. \n",
    "\n",
    "### 1. Source Control\n",
    "**Source control** (or version control) is essential for tracking and managing changes in the codebase. Tools like **Git** and platforms like **GitHub** provide a structured way to maintain different versions of a project. \n",
    "\n",
    "- Ensures that code changes are recorded.\n",
    "- Allows developers to revert to previous versions if issues arise.\n",
    "- Facilitates collaboration among team members.\n",
    "\n",
    "### 2. Forking\n",
    "**Forking** is the process of creating a personal copy of a repository. It enables developers to experiment, make changes, and contribute without affecting the original project.\n",
    "\n",
    "- Helps in open-source collaboration.\n",
    "- Encourages independent experimentation.\n",
    "- Changes can be proposed via pull requests.\n",
    "\n",
    "### 3. Branching\n",
    "**Branching** allows developers to work on features or fixes independently without disrupting the main project.\n",
    "\n",
    "- **Main Branch (e.g., `main` or `master`)**: The stable version of the project.\n",
    "- **Feature Branches**: Used to develop new features before merging into the main branch.\n",
    "- **Bug Fix Branches**: Created to resolve specific issues.\n",
    "\n",
    "Branching helps teams work on multiple aspects of a project simultaneously.\n",
    "\n",
    "### 4. Building\n",
    "The **building** phase involves compiling source code into an executable format. In JavaScript projects, this may include:\n",
    "\n",
    "- Transpiling modern JavaScript (ES6+) to older versions using **Babel**.\n",
    "- Bundling files using **Webpack** or **Parcel**.\n",
    "- Minifying and optimizing assets for better performance.\n",
    "\n",
    "### 5. Testing and Verification\n",
    "**Testing** ensures that the software functions correctly before deployment. Different types of testing include:\n",
    "\n",
    "- **Unit Testing**: Testing individual functions or components (e.g., using Jest, Mocha).\n",
    "- **Integration Testing**: Checking interactions between multiple modules.\n",
    "- **End-to-End Testing**: Simulating real user scenarios (e.g., Cypress, Selenium).\n",
    "\n",
    "Verification ensures that the product meets requirements before release.\n",
    "\n",
    "### 6. Pull Requests (PRs)\n",
    "A **pull request (PR)** is used to propose code changes from a branch to the main project.\n",
    "\n",
    "- Enables code review before merging.\n",
    "- Helps maintain code quality.\n",
    "- Allows discussion and feedback on changes.\n",
    "\n",
    "### 7. Merging\n",
    "After approval, changes from a pull request are **merged** into the main branch.\n",
    "\n",
    "- **Squash Merge**: Combines multiple commits into one.\n",
    "- **Rebase**: Incorporates changes from one branch into another cleanly.\n",
    "- **Fast-Forward Merge**: Moves the main branch forward without additional commits.\n",
    "\n",
    "### 8. Deployment\n",
    "Deployment is the process of making the software available to users. It involves:\n",
    "\n",
    "- **Hosting the application** (e.g., Vercel, Netlify for web apps).\n",
    "- **Continuous Integration/Continuous Deployment (CI/CD)** pipelines for automated testing and deployment.\n",
    "- **Monitoring and Maintenance** after release."
   ]
  }
 ],
 "metadata": {
  "language_info": {
   "name": "python"
  }
 },
 "nbformat": 4,
 "nbformat_minor": 2
}
