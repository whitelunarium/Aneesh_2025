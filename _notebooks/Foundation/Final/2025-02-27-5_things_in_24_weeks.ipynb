{
 "cells": [
  {
   "cell_type": "raw",
   "metadata": {
    "vscode": {
     "languageId": "raw"
    }
   },
   "source": [
    "---\n",
    "comments: true\n",
    "layout: post\n",
    "title: 5 Things\n",
    "description: 5 Things I learned over 24 weeks of CSSE\n",
    "permalink: /5in24/\n",
    "category: [ PBL ]\n",
    "---"
   ]
  },
  {
   "cell_type": "markdown",
   "metadata": {},
   "source": [
    "### **5 Key Points from the Last 24 Weeks**  \n",
    "\n",
    "Over the past two trimesters, I have worked extensively on JavaScript, Project-Based Learning (PBL), and game development. Below are five key highlights of my journey:  \n",
    "\n",
    "---\n",
    "\n",
    "### **1. Skills Learned**  \n",
    "- **JavaScript Fundamentals:** Control structures, data types, operators, classes, and methods.  \n",
    "- **Game Development:** Implementing player mechanics, handling NPC interactions, and managing game states.  \n",
    "- **DOM Manipulation:** Using JavaScript to interact with HTML elements, take input, and update the UI dynamically.  \n",
    "- **Git and GitHub:** Source control, forking, branching, merging, and handling pull requests.  \n",
    "- **Debugging & Testing:** Learning to use `console.log()`, handling errors, and testing game functionality.  \n",
    "\n",
    "---\n",
    "\n",
    "### **2. Issues Faced and Resolved** \n",
    "- **KASM:** Horrid experience, always problems, either everything getting lost or I have to restart. Had to switch to a laptop.\n",
    "- **Player Movement Restrictions:** Ensured controlled movement with jumping mechanics.  \n",
    "- **Game Level End Handling:** Debugging the logic for detecting player/NPC defeat.  \n",
    "- **UI/UX Improvements:** Fixed issues related to user input, validation, and dynamic updates.  \n",
    "- **Merge Conflicts:** Learned how to resolve conflicts when working with Git branches.  \n",
    "- **Performance Optimization:** Improved game efficiency by optimizing loops and event handling.  \n",
    "\n",
    "---\n",
    "\n",
    "### **3. Burn Down (Task Completion Over Time)**  \n",
    "Throughout the project, I tracked progress using GitHub Issues and project boards. The **Burn Down Chart** showed:  \n",
    "- **Early Phase:** Setting up the project, learning JavaScript basics, and initial game structure.  \n",
    "- **Mid Phase:** Implementing advanced features like NPC, game levels, and UI components.  \n",
    "- **Final Phase:** Debugging, optimizing code, improving documentation, and preparing for live reviews.  \n",
    "\n",
    "---\n",
    "\n",
    "### **4. Lessons Taught**  \n",
    "- **Mathematical Expressions:** Me, Aaryav, and Aditya worked together on our lesson to present it to the class.\n",
    "- **Other lessons:** During the process of creating my lesson, we watched other people's lessons and learned more about the fundamentals of JavaScript. \n",
    "\n",
    "---\n",
    "\n",
    "### **5. Live Reviews & GitHub Analytics**  \n",
    "- **Live Reviews:** Presented my project at **N@tM MAKEUPS**, received feedback, and discussed improvements.  \n",
    "- **Analytics:**\n",
    "\n",
    "---\n",
    "\n",
    "These five points summarize my work over 24 weeks, covering the challenges, skills, lessons, and progress made throughout this project."
   ]
  }
 ],
 "metadata": {
  "language_info": {
   "name": "python"
  }
 },
 "nbformat": 4,
 "nbformat_minor": 2
}
