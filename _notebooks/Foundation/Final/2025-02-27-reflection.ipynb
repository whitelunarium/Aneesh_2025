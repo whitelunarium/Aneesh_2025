{
 "cells": [
  {
   "cell_type": "raw",
   "metadata": {
    "vscode": {
     "languageId": "raw"
    }
   },
   "source": [
    "---\n",
    "comments: true\n",
    "layout: post\n",
    "title: Reflection\n",
    "description: \"Reflection, Honest self grade assessment on point related topics, including reasoning.\"\n",
    "permalink: /reflection/\n",
    "category: [ PBL ]\n",
    "---"
   ]
  },
  {
   "cell_type": "markdown",
   "metadata": {},
   "source": [
    "# Reflection on Growth, Collaboration, and Future Aspirations\n",
    "\n",
    "## Engaging with Others: N@tM Reviews and Personalization\n",
    "One of the most valuable aspects of my Computer Science journey has been the opportunity to engage with other projects and people. During N@tM (Makeups), I took an active role in reviewing my peers' projects, providing feedback, and learning from their creative approaches. I took time to understand their motivations, challenges, and innovative problem-solving techniques. Documenting these insights in a chronicle allowed me to reflect on how diverse ideas contributed to a broader learning experience.\n",
    "\n",
    "## Helping Others: Organizing Final Exam Materials and Practice Reviews\n",
    "In an effort to support my peers, I reached out to someone and helped them organize their Final Exam materials. This included categorizing the eight blogs and other relevant information to ensure they had a structured review. I put some effort in helping individuals like Aditya S with his overall review, and Akhil K with his game. Additionally, I conducted a preliminary live review with them, mirroring what would be expected from Mr. Mortensen's final evaluation. This experience reinforced my ability to know what should be expected, clarify concepts, and guide someone else through preparation, which ultimately strengthened my own understanding.\n",
    "\n",
    "## Future in Computer Science: Interests, Classes, College, and Career\n",
    "Looking ahead, I am eager to deepen my expertise in Computer Science. My interests lie in software development, artificial intelligence, and cybersecurity. In college, I plan to take advanced coursework in these areas while pursuing internship opportunities to gain hands-on experience. The long-term goal is to build a career in tech, contributing to innovative projects that solve real-world problems.\n",
    "\n",
    "## Self-Reflection: Strengths and Weaknesses\n",
    "Through this process, I have recognized several strengths:\n",
    "- **Adaptability** – Quickly learning and applying new programming concepts.\n",
    "- **Collaboration** – Effectively working with peers and assisting them in their learning journey.\n",
    "- **Critical Thinking** – Analyzing problems and devising structured solutions.\n",
    "\n",
    "However, there are areas for improvement:\n",
    "- **Time Management** – Balancing a project efficiently remains a challenge.\n",
    "- **Confidence in Public Speaking** – Delivering live presentations with clarity and impact is an ongoing skill to refine.\n",
    "\n",
    "## Project Reflection: Next Steps, Strengths, and Weaknesses\n",
    "Reflecting on my project, I see several strengths, including a well-structured codebase, clear documentation, and a compelling user experience. However, if I had more time, I would improve the overall experience of the project, integrate more complex features (More battle moves!), and enhance performance optimization (Smoother experience: (Battle animations and sounds)). My next steps involve revisiting the code and considering future iterations based on feedback. \n",
    "\n",
    "## Pitch for College Articulation\n",
    "As I prepare for college applications, my articulation pitch will focus on:\n",
    "- How my Computer Science journey has shaped my problem-solving abilities.\n",
    "- The impact of my project-based learning experiences.\n",
    "- My commitment to continuous growth and contribution to the tech field.\n",
    "\n"
   ]
  },
  {
   "cell_type": "markdown",
   "metadata": {},
   "source": [
    "# Extreme Interests\n",
    "I took interest in a several games, but these are the games I think would be the most beneficial for my game:\n",
    "- **William Windle's game:** His quest system is very good, and would be perfect for my battle RPG, where the player has to fight to survive. It would give the player another reason to play other than the fighting, and would give more goals to the final game.\n",
    "    - **Veera Kalakota's game:** His key function could be very good if I chose to take inspiration from William's game as his contributions to the platformer game could make a great quest.\n",
    "    - **Aditya Srivastava's game:** His tree function could also be very good if I chose to take inspiration from William's game as his adventure game could make a great quest.\n",
    "- **Akhil Kulkarni's game:** His code was very good, I really loved how the game doesn't let you proceed unless you complete the task. I think that would be perfect for my game, as it would stop the players from being able to leave the game without completion.\n",
    "- **Mr. Mortensen's game:** His gameInGame function was very good, it would be an amazing addition to my game. Here's why: When the player collides with the enemy NPC, the player would teleport straight to the battle scene. This would make the experience more realistic and fun to play."
   ]
  },
  {
   "cell_type": "markdown",
   "metadata": {},
   "source": [
    "## Self Grade\n",
    "| Topic        | Points        | Explanation                 |\n",
    "|--------------|---------------|----------------------------|\n",
    "| Eight Blogs  | 4.8/5        | Blogs are well informed, nothing extraordinary, filled with examples. |\n",
    "| Latest Feature |1.94/2 | I think the turn-based battle is good compared to some other projects. |\n",
    "| 5 Things in 24 Weeks   |0.93  | Reflected on 5 things, well informed, nothing extraordinary. |\n",
    "|Draw IO + Latest game feature blog| 0.95 | Latest game feature blog is pretty good, but Draw IO is alright as well, could probably be more detailed. |\n",
    "| N@TM Feedback     | 0.88            | Missed N@TM, but did makeups which provided a good amount of feedback, thanks to makeups, made some **significant** improvements. |\n",
    "| Total | Out of 10 points | Points Recieved: 9.5|"
   ]
  }
 ],
 "metadata": {
  "language_info": {
   "name": "python"
  }
 },
 "nbformat": 4,
 "nbformat_minor": 2
}
