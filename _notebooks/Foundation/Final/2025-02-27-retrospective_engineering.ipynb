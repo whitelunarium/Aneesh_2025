{
 "cells": [
  {
   "cell_type": "code",
   "execution_count": null,
   "metadata": {
    "vscode": {
     "languageId": "plaintext"
    }
   },
   "outputs": [],
   "source": [
    "---\n",
    "comments: true\n",
    "layout: post\n",
    "title: Retrospective Engineering\n",
    "author: Aneesh Deevi\n",
    "permalink: /retrospective-engineering/\n",
    "category: [ PBL ]\n",
    "type: ccc\n",
    "---"
   ]
  },
  {
   "cell_type": "markdown",
   "metadata": {},
   "source": [
    "# Retrospective Engineering: Refining Projects Through Feedback and Reflection\n",
    "\n",
    "## Performing Demos and Receiving Feedback\n",
    "\n",
    "Presenting a project through a live demo is an essential step in the development process. It allows developers to showcase their work, demonstrate functionality, and gather real-time feedback from users, peers, and mentors.\n",
    "\n",
    "Feedback collected during demos is crucial for identifying areas of improvement. Constructive criticism provides insights into usability, design flaws, and potential enhancements.\n",
    "\n",
    "## Live Reviews and Iterative Improvements\n",
    "\n",
    "Live reviews, such as those conducted during class presentations or project showcases, serve as opportunities to receive structured feedback. Reviewers may include teachers, industry professionals, or fellow students, each providing unique perspectives on:\n",
    "- **Code Quality and Readability**\n",
    "- **Performance and Efficiency**\n",
    "- **User Experience and Interface Design**\n",
    "- **Gameplay Mechanics and Balance (for game projects)**\n",
    "\n",
    "## Night at the Museum (N@tM) Reflection\n",
    "\n",
    "The **Night at the Museum (N@tM)** event was a significant opportunity. Sadly, I missed it. This is my <a href=\"https://github.com/whitelunarium/Aneesh_2025/issues/21\" target=\"_blank\">N@tM makeups!</a>\n",
    "\n",
    "\n",
    "## Retrospective Issues and Future Enhancements\n",
    "\n",
    "Reflecting on the development cycle, several retrospective issues stand out as areas for improvement:\n",
    "\n",
    "1. **Movement Controls Optimization**\n",
    "   - Current issue: Player movement needs better constraints to prevent erratic behavior.\n",
    "   - Future fix: Implement smoother acceleration and deceleration physics.\n",
    "\n",
    "2. **Battle Moves**\n",
    "   - Current issue: Enemy and Player and attack patterns are too predictable.\n",
    "   - Future fix: Introduce randomized behaviors and adaptive difficulty, add more moves.\n",
    "\n",
    "3. **UI and UX Improvements**\n",
    "   - Current issue: Some UI elements are not intuitive for first-time players.\n",
    "   - Future fix: Refine the layout, add tooltips, and enhance visual feedback, add attack animations/sounds.\n",
    "\n",
    "4. **Additional Features with Even More Time**\n",
    "   - Multiplayer functionality for a more engaging experience.\n",
    "   - More levels and challenges to extend replayability.\n",
    "   - Expanded storyline and lore for deeper immersion."
   ]
  }
 ],
 "metadata": {
  "language_info": {
   "name": "python"
  }
 },
 "nbformat": 4,
 "nbformat_minor": 2
}
